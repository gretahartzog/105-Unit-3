{
 "cells": [
  {
   "cell_type": "markdown",
   "id": "967fd0a1-e8bb-41fe-9cae-f5417328322b",
   "metadata": {},
   "source": [
    "This is a header for my notebook\n",
    "Here is an overview of the procedure"
   ]
  },
  {
   "cell_type": "code",
   "execution_count": 1,
   "id": "dff1b8da-c391-4f22-8cd6-65dd15219819",
   "metadata": {},
   "outputs": [
    {
     "name": "stdout",
     "output_type": "stream",
     "text": [
      "fun\n"
     ]
    }
   ],
   "source": [
    "object1=\"fun\"\n",
    "print(object1)"
   ]
  },
  {
   "cell_type": "code",
   "execution_count": 2,
   "id": "38d2aff6-f04c-4507-9d2b-e534d2789100",
   "metadata": {},
   "outputs": [
    {
     "name": "stdout",
     "output_type": "stream",
     "text": [
      "fun\n"
     ]
    }
   ],
   "source": [
    "object2=\"fun\"\n",
    "print(object2)"
   ]
  },
  {
   "cell_type": "code",
   "execution_count": null,
   "id": "889db594-83a7-45ff-8ba9-b60012cfc8d5",
   "metadata": {},
   "outputs": [],
   "source": []
  }
 ],
 "metadata": {
  "kernelspec": {
   "display_name": "Python 3 (ipykernel)",
   "language": "python",
   "name": "python3"
  },
  "language_info": {
   "codemirror_mode": {
    "name": "ipython",
    "version": 3
   },
   "file_extension": ".py",
   "mimetype": "text/x-python",
   "name": "python",
   "nbconvert_exporter": "python",
   "pygments_lexer": "ipython3",
   "version": "3.9.13"
  }
 },
 "nbformat": 4,
 "nbformat_minor": 5
}
