{
 "cells": [
  {
   "cell_type": "markdown",
   "id": "b69d65f7-5265-463b-9249-71a051122872",
   "metadata": {},
   "source": [
    "# Introduction\n",
    "#### The following instructions will show how to manipulate your data set to make it focus on a more niche area or a certain subject.\n",
    "\n",
    "### 1. Type out \"import pandas as pd\"\n",
    "### 2. Type out your name with the exact tite of the dataset you want to use.\n",
    "### 3. Now you type out your name or title and in quotations you put the specific variables you wish to see in your new dataset and making sure to include the numbers of those columns.\n",
    "### 4. Next it will produce the dataset you were wishing to use."
   ]
  },
  {
   "cell_type": "code",
   "execution_count": 2,
   "id": "4016e2c3-aaa7-4aab-8d0a-7f17ffa1dc4d",
   "metadata": {},
   "outputs": [],
   "source": [
    "import pandas as pd"
   ]
  },
  {
   "cell_type": "code",
   "execution_count": 9,
   "id": "7d418689-481e-441a-9ae9-45ac1d34bfee",
   "metadata": {},
   "outputs": [],
   "source": [
    "Greta=pd.read_csv(\"CountyHealthData_2014-2015 (1).csv\")"
   ]
  },
  {
   "cell_type": "code",
   "execution_count": 12,
   "id": "9e25367b-11f3-444c-a90f-39c3963873ee",
   "metadata": {
    "tags": []
   },
   "outputs": [
    {
     "data": {
      "text/html": [
       "<div>\n",
       "<style scoped>\n",
       "    .dataframe tbody tr th:only-of-type {\n",
       "        vertical-align: middle;\n",
       "    }\n",
       "\n",
       "    .dataframe tbody tr th {\n",
       "        vertical-align: top;\n",
       "    }\n",
       "\n",
       "    .dataframe thead th {\n",
       "        text-align: right;\n",
       "    }\n",
       "</style>\n",
       "<table border=\"1\" class=\"dataframe\">\n",
       "  <thead>\n",
       "    <tr style=\"text-align: right;\">\n",
       "      <th></th>\n",
       "      <th>State</th>\n",
       "      <th>Year</th>\n",
       "      <th>County</th>\n",
       "      <th>Adult obesity</th>\n",
       "      <th>Food environment index</th>\n",
       "    </tr>\n",
       "  </thead>\n",
       "  <tbody>\n",
       "    <tr>\n",
       "      <th>3244</th>\n",
       "      <td>NC</td>\n",
       "      <td>1/1/2015</td>\n",
       "      <td>Alamance County</td>\n",
       "      <td>0.332</td>\n",
       "      <td>6.200</td>\n",
       "    </tr>\n",
       "    <tr>\n",
       "      <th>3245</th>\n",
       "      <td>NC</td>\n",
       "      <td>1/1/2014</td>\n",
       "      <td>Alexander County</td>\n",
       "      <td>0.272</td>\n",
       "      <td>7.825</td>\n",
       "    </tr>\n",
       "    <tr>\n",
       "      <th>3246</th>\n",
       "      <td>NC</td>\n",
       "      <td>1/1/2015</td>\n",
       "      <td>Alexander County</td>\n",
       "      <td>0.283</td>\n",
       "      <td>7.400</td>\n",
       "    </tr>\n",
       "    <tr>\n",
       "      <th>3247</th>\n",
       "      <td>NC</td>\n",
       "      <td>1/1/2014</td>\n",
       "      <td>Alleghany County</td>\n",
       "      <td>0.247</td>\n",
       "      <td>7.561</td>\n",
       "    </tr>\n",
       "    <tr>\n",
       "      <th>3248</th>\n",
       "      <td>NC</td>\n",
       "      <td>1/1/2015</td>\n",
       "      <td>Alleghany County</td>\n",
       "      <td>0.235</td>\n",
       "      <td>7.400</td>\n",
       "    </tr>\n",
       "    <tr>\n",
       "      <th>...</th>\n",
       "      <td>...</td>\n",
       "      <td>...</td>\n",
       "      <td>...</td>\n",
       "      <td>...</td>\n",
       "      <td>...</td>\n",
       "    </tr>\n",
       "    <tr>\n",
       "      <th>3438</th>\n",
       "      <td>NC</td>\n",
       "      <td>1/1/2015</td>\n",
       "      <td>Wilson County</td>\n",
       "      <td>0.373</td>\n",
       "      <td>5.900</td>\n",
       "    </tr>\n",
       "    <tr>\n",
       "      <th>3439</th>\n",
       "      <td>NC</td>\n",
       "      <td>1/1/2014</td>\n",
       "      <td>Yadkin County</td>\n",
       "      <td>0.297</td>\n",
       "      <td>8.296</td>\n",
       "    </tr>\n",
       "    <tr>\n",
       "      <th>3440</th>\n",
       "      <td>NC</td>\n",
       "      <td>1/1/2015</td>\n",
       "      <td>Yadkin County</td>\n",
       "      <td>0.301</td>\n",
       "      <td>8.000</td>\n",
       "    </tr>\n",
       "    <tr>\n",
       "      <th>3441</th>\n",
       "      <td>NC</td>\n",
       "      <td>1/1/2014</td>\n",
       "      <td>Yancey County</td>\n",
       "      <td>0.287</td>\n",
       "      <td>8.001</td>\n",
       "    </tr>\n",
       "    <tr>\n",
       "      <th>3442</th>\n",
       "      <td>NC</td>\n",
       "      <td>1/1/2015</td>\n",
       "      <td>Yancey County</td>\n",
       "      <td>0.271</td>\n",
       "      <td>7.700</td>\n",
       "    </tr>\n",
       "  </tbody>\n",
       "</table>\n",
       "<p>199 rows × 5 columns</p>\n",
       "</div>"
      ],
      "text/plain": [
       "     State      Year            County  Adult obesity  Food environment index\n",
       "3244    NC  1/1/2015   Alamance County          0.332                   6.200\n",
       "3245    NC  1/1/2014  Alexander County          0.272                   7.825\n",
       "3246    NC  1/1/2015  Alexander County          0.283                   7.400\n",
       "3247    NC  1/1/2014  Alleghany County          0.247                   7.561\n",
       "3248    NC  1/1/2015  Alleghany County          0.235                   7.400\n",
       "...    ...       ...               ...            ...                     ...\n",
       "3438    NC  1/1/2015     Wilson County          0.373                   5.900\n",
       "3439    NC  1/1/2014     Yadkin County          0.297                   8.296\n",
       "3440    NC  1/1/2015     Yadkin County          0.301                   8.000\n",
       "3441    NC  1/1/2014     Yancey County          0.287                   8.001\n",
       "3442    NC  1/1/2015     Yancey County          0.271                   7.700\n",
       "\n",
       "[199 rows x 5 columns]"
      ]
     },
     "execution_count": 12,
     "metadata": {},
     "output_type": "execute_result"
    }
   ],
   "source": [
    "Greta[[\"State\", \"Year\", \"County\", \"Adult obesity\", \"Food environment index\"]][3244:3443]"
   ]
  },
  {
   "cell_type": "markdown",
   "id": "029d8493-40cf-4a49-8b43-e707ab9b7747",
   "metadata": {},
   "source": [
    "# Exporting New Subset\n",
    "### Now that we have finished creating the subset we need to export it as a .csv file. To do this you type in the following text but with your own title."
   ]
  },
  {
   "cell_type": "code",
   "execution_count": null,
   "id": "49f27178-7da5-4a82-8edc-47552966559c",
   "metadata": {},
   "outputs": [],
   "source": [
    "Nchealthdata_subset.to_csv(\"Nchealthdata.csv\",index=False) "
   ]
  },
  {
   "cell_type": "markdown",
   "id": "c7a09191-3f94-4d2e-b52a-52cae20805a4",
   "metadata": {},
   "source": [
    "# Saving Subset\n",
    "\n",
    "### Type in what is below to save your subset but with your own title. "
   ]
  },
  {
   "cell_type": "code",
   "execution_count": null,
   "id": "92efcd45-20ff-4d50-8fb7-fccc93c34523",
   "metadata": {},
   "outputs": [],
   "source": [
    "Nchealthdata_subset=Greta[Greta[\"State\"]==\"NC\"].copy() "
   ]
  },
  {
   "cell_type": "markdown",
   "id": "ca74c36d-2337-4ad3-bf1d-430c8803b334",
   "metadata": {},
   "source": [
    "### Now when you type in this you can use your subset whenever you want."
   ]
  },
  {
   "cell_type": "code",
   "execution_count": null,
   "id": "b19d7cb9-c545-4fe6-9b82-4330ac6cde3b",
   "metadata": {},
   "outputs": [],
   "source": [
    "Nchealthdata_subset "
   ]
  }
 ],
 "metadata": {
  "kernelspec": {
   "display_name": "Python 3 (ipykernel)",
   "language": "python",
   "name": "python3"
  },
  "language_info": {
   "codemirror_mode": {
    "name": "ipython",
    "version": 3
   },
   "file_extension": ".py",
   "mimetype": "text/x-python",
   "name": "python",
   "nbconvert_exporter": "python",
   "pygments_lexer": "ipython3",
   "version": "3.9.13"
  }
 },
 "nbformat": 4,
 "nbformat_minor": 5
}
